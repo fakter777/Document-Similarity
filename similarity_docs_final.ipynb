{
 "cells": [
  {
   "cell_type": "code",
   "execution_count": 1,
   "metadata": {
    "id": "ADCsFsbwykWk"
   },
   "outputs": [
    {
     "name": "stderr",
     "output_type": "stream",
     "text": [
      "[nltk_data] Downloading collection 'popular'\n",
      "[nltk_data]    | \n",
      "[nltk_data]    | Downloading package cmudict to\n",
      "[nltk_data]    |     C:\\Users\\badar\\AppData\\Roaming\\nltk_data...\n",
      "[nltk_data]    |   Package cmudict is already up-to-date!\n",
      "[nltk_data]    | Downloading package gazetteers to\n",
      "[nltk_data]    |     C:\\Users\\badar\\AppData\\Roaming\\nltk_data...\n",
      "[nltk_data]    |   Package gazetteers is already up-to-date!\n",
      "[nltk_data]    | Downloading package genesis to\n",
      "[nltk_data]    |     C:\\Users\\badar\\AppData\\Roaming\\nltk_data...\n",
      "[nltk_data]    |   Package genesis is already up-to-date!\n",
      "[nltk_data]    | Downloading package gutenberg to\n",
      "[nltk_data]    |     C:\\Users\\badar\\AppData\\Roaming\\nltk_data...\n",
      "[nltk_data]    |   Package gutenberg is already up-to-date!\n",
      "[nltk_data]    | Downloading package inaugural to\n",
      "[nltk_data]    |     C:\\Users\\badar\\AppData\\Roaming\\nltk_data...\n",
      "[nltk_data]    |   Package inaugural is already up-to-date!\n",
      "[nltk_data]    | Downloading package movie_reviews to\n",
      "[nltk_data]    |     C:\\Users\\badar\\AppData\\Roaming\\nltk_data...\n",
      "[nltk_data]    |   Package movie_reviews is already up-to-date!\n",
      "[nltk_data]    | Downloading package names to\n",
      "[nltk_data]    |     C:\\Users\\badar\\AppData\\Roaming\\nltk_data...\n",
      "[nltk_data]    |   Package names is already up-to-date!\n",
      "[nltk_data]    | Downloading package shakespeare to\n",
      "[nltk_data]    |     C:\\Users\\badar\\AppData\\Roaming\\nltk_data...\n",
      "[nltk_data]    |   Package shakespeare is already up-to-date!\n",
      "[nltk_data]    | Downloading package stopwords to\n",
      "[nltk_data]    |     C:\\Users\\badar\\AppData\\Roaming\\nltk_data...\n",
      "[nltk_data]    |   Package stopwords is already up-to-date!\n",
      "[nltk_data]    | Downloading package treebank to\n",
      "[nltk_data]    |     C:\\Users\\badar\\AppData\\Roaming\\nltk_data...\n",
      "[nltk_data]    |   Package treebank is already up-to-date!\n",
      "[nltk_data]    | Downloading package twitter_samples to\n",
      "[nltk_data]    |     C:\\Users\\badar\\AppData\\Roaming\\nltk_data...\n",
      "[nltk_data]    |   Package twitter_samples is already up-to-date!\n",
      "[nltk_data]    | Downloading package omw to\n",
      "[nltk_data]    |     C:\\Users\\badar\\AppData\\Roaming\\nltk_data...\n",
      "[nltk_data]    |   Package omw is already up-to-date!\n",
      "[nltk_data]    | Downloading package wordnet to\n",
      "[nltk_data]    |     C:\\Users\\badar\\AppData\\Roaming\\nltk_data...\n",
      "[nltk_data]    |   Package wordnet is already up-to-date!\n",
      "[nltk_data]    | Downloading package wordnet_ic to\n",
      "[nltk_data]    |     C:\\Users\\badar\\AppData\\Roaming\\nltk_data...\n",
      "[nltk_data]    |   Package wordnet_ic is already up-to-date!\n",
      "[nltk_data]    | Downloading package words to\n",
      "[nltk_data]    |     C:\\Users\\badar\\AppData\\Roaming\\nltk_data...\n",
      "[nltk_data]    |   Package words is already up-to-date!\n",
      "[nltk_data]    | Downloading package maxent_ne_chunker to\n",
      "[nltk_data]    |     C:\\Users\\badar\\AppData\\Roaming\\nltk_data...\n",
      "[nltk_data]    |   Package maxent_ne_chunker is already up-to-date!\n",
      "[nltk_data]    | Downloading package punkt to\n",
      "[nltk_data]    |     C:\\Users\\badar\\AppData\\Roaming\\nltk_data...\n",
      "[nltk_data]    |   Package punkt is already up-to-date!\n",
      "[nltk_data]    | Downloading package snowball_data to\n",
      "[nltk_data]    |     C:\\Users\\badar\\AppData\\Roaming\\nltk_data...\n",
      "[nltk_data]    |   Package snowball_data is already up-to-date!\n",
      "[nltk_data]    | Downloading package averaged_perceptron_tagger to\n",
      "[nltk_data]    |     C:\\Users\\badar\\AppData\\Roaming\\nltk_data...\n",
      "[nltk_data]    |   Package averaged_perceptron_tagger is already up-\n",
      "[nltk_data]    |       to-date!\n",
      "[nltk_data]    | \n",
      "[nltk_data]  Done downloading collection popular\n",
      "C:\\Users\\badar\\anaconda3\\lib\\site-packages\\tqdm\\std.py:658: FutureWarning: The Panel class is removed from pandas. Accessing it from the top-level namespace will also be removed in the next version\n",
      "  from pandas import Panel\n"
     ]
    }
   ],
   "source": [
    "import nltk\n",
    "#nltk.download() \n",
    "nltk.download(\"popular\")\n",
    "import random\n",
    "import re\n",
    "import progressbar\n",
    "from nltk.tokenize import word_tokenize\n",
    "from sklearn.feature_extraction.text import ENGLISH_STOP_WORDS\n",
    "from wordcloud import WordCloud \n",
    "import spacy   \n",
    "from nltk.corpus import stopwords \n",
    "from nltk.tokenize import word_tokenize \n",
    "import matplotlib.pyplot as plt \n",
    "# from keras.preprocessing.text import Tokenizer\n",
    "from nltk.corpus import stopwords\n",
    "import pandas as pd\n",
    "import numpy as np\n",
    "from tqdm import tqdm\n",
    "from spacy.lang.en import English\n",
    "import nltk\n",
    "from nltk.corpus import stopwords\n",
    "from nltk.tokenize import word_tokenize\n",
    "import string\n",
    "from spacy.lang.en.stop_words import STOP_WORDS\n",
    "tqdm.pandas(desc=\"progress-bar\")\n",
    "from gensim.models import Doc2Vec\n",
    "from sklearn import utils\n",
    "from sklearn.model_selection import train_test_split\n",
    "import gensim\n",
    "from sklearn.linear_model import LogisticRegression\n",
    "from gensim.models.doc2vec import TaggedDocument\n",
    "from spacy.lang.en import English\n",
    "nlp = English()\n",
    "import seaborn as sns\n",
    "import matplotlib.pyplot as plt"
   ]
  },
  {
   "cell_type": "code",
   "execution_count": 2,
   "metadata": {
    "id": "Fo9e73LS3rUG"
   },
   "outputs": [
    {
     "name": "stderr",
     "output_type": "stream",
     "text": [
      "[nltk_data] Downloading package stopwords to\n",
      "[nltk_data]     C:\\Users\\badar\\AppData\\Roaming\\nltk_data...\n",
      "[nltk_data]   Package stopwords is already up-to-date!\n",
      "[nltk_data] Downloading package punkt to\n",
      "[nltk_data]     C:\\Users\\badar\\AppData\\Roaming\\nltk_data...\n",
      "[nltk_data]   Package punkt is already up-to-date!\n"
     ]
    }
   ],
   "source": [
    "\n",
    "import numpy as np # linear algebra\n",
    "import pandas as pd # data processing, CSV file I/O (e.g. pd.read_csv)\n",
    "import matplotlib.pyplot as plt\n",
    "import seaborn as sns\n",
    "# from textblob import TextBlob\n",
    "import nltk\n",
    "import pandas as pd\n",
    "\n",
    "from nltk.corpus import stopwords \n",
    "from nltk.tokenize import word_tokenize \n",
    "import collections\n",
    "from collections import Counter \n",
    "from wordcloud import WordCloud, STOPWORDS \n",
    "import warnings\n",
    "\n",
    "#Downloading wordbags from nltk\n",
    "\n",
    "nltk.download('stopwords')\n",
    "nltk.download('punkt')\n",
    "\n",
    "# ignore warnings\n",
    "warnings.filterwarnings(\"ignore\")"
   ]
  },
  {
   "cell_type": "markdown",
   "metadata": {},
   "source": [
    "# Quran reading"
   ]
  },
  {
   "cell_type": "code",
   "execution_count": 3,
   "metadata": {
    "id": "_U54Pz193zmi"
   },
   "outputs": [],
   "source": [
    "df_quran=pd.read_csv(\"Quran1.csv\",error_bad_lines=False,encoding= 'unicode_escape',names=['text'])"
   ]
  },
  {
   "cell_type": "code",
   "execution_count": 4,
   "metadata": {
    "id": "FBl7Fbzl4ogJ"
   },
   "outputs": [],
   "source": [
    "\n",
    "txt_quran=df_quran['text']"
   ]
  },
  {
   "cell_type": "code",
   "execution_count": 5,
   "metadata": {
    "id": "RHBZUUydLxRm"
   },
   "outputs": [
    {
     "data": {
      "text/plain": [
       "0                                                    text\n",
       "1       In the name of Allah, Most Gracious, Most Merc...\n",
       "2       Praise be to Allah, the Cherisher and Sustaine...\n",
       "3                           Most Gracious, Most Merciful;\n",
       "4                          Master of the Day of Judgment.\n",
       "                              ...                        \n",
       "6232                      The King (or Ruler) of Mankind,\n",
       "6233                      The god (or judge) of Mankind,-\n",
       "6234    From the mischief of the Whisperer (of Evil), ...\n",
       "6235    (The same) who whispers into the hearts of Man...\n",
       "6236                           Among Jinns and among men.\n",
       "Name: text, Length: 6237, dtype: object"
      ]
     },
     "execution_count": 5,
     "metadata": {},
     "output_type": "execute_result"
    }
   ],
   "source": [
    "txt_quran"
   ]
  },
  {
   "cell_type": "markdown",
   "metadata": {},
   "source": [
    "# Bible  reading"
   ]
  },
  {
   "cell_type": "code",
   "execution_count": 6,
   "metadata": {
    "id": "T4pferGBDjG8"
   },
   "outputs": [],
   "source": [
    "df_bible=pd.read_csv(\"bible_data_set.csv\")"
   ]
  },
  {
   "cell_type": "code",
   "execution_count": 7,
   "metadata": {
    "id": "rT0DZeYED-M5"
   },
   "outputs": [],
   "source": [
    "txt_bible=df_bible['text']"
   ]
  },
  {
   "cell_type": "code",
   "execution_count": 9,
   "metadata": {
    "id": "lBVg4lFsGdmz"
   },
   "outputs": [
    {
     "data": {
      "text/plain": [
       "0        In the beginning God created the heaven and th...\n",
       "1        And the earth was without form, and void; and ...\n",
       "2        And God said, Let there be light: and there wa...\n",
       "3        And God saw the light, that it was good: and G...\n",
       "4        And God called the light Day, and the darkness...\n",
       "                               ...                        \n",
       "31097    And the Spirit and the bride say, Come. And le...\n",
       "31098    For I testify unto every man that heareth the ...\n",
       "31099    And if any man shall take away from the words ...\n",
       "31100    He which testifieth these things saith, Surely...\n",
       "31101    The grace of our Lord Jesus Christ be with you...\n",
       "Name: text, Length: 31102, dtype: object"
      ]
     },
     "execution_count": 9,
     "metadata": {},
     "output_type": "execute_result"
    }
   ],
   "source": [
    "df_bible['text']"
   ]
  },
  {
   "cell_type": "markdown",
   "metadata": {
    "id": "CS8ygI9jYJCg"
   },
   "source": [
    "# **Tanakh **"
   ]
  },
  {
   "cell_type": "code",
   "execution_count": 10,
   "metadata": {
    "id": "IJWV-zqkrtZj"
   },
   "outputs": [
    {
     "name": "stdout",
     "output_type": "stream",
     "text": [
      "Requirement already satisfied: pdfminer.six in c:\\users\\badar\\anaconda3\\lib\\site-packages (20200726)\n",
      "Requirement already satisfied: chardet; python_version > \"3.0\" in c:\\users\\badar\\anaconda3\\lib\\site-packages (from pdfminer.six) (3.0.4)\n",
      "Requirement already satisfied: sortedcontainers in c:\\users\\badar\\anaconda3\\lib\\site-packages (from pdfminer.six) (2.1.0)\n",
      "Requirement already satisfied: cryptography in c:\\users\\badar\\anaconda3\\lib\\site-packages (from pdfminer.six) (2.8)\n",
      "Requirement already satisfied: cffi!=1.11.3,>=1.8 in c:\\users\\badar\\anaconda3\\lib\\site-packages (from cryptography->pdfminer.six) (1.14.0)\n",
      "Requirement already satisfied: six>=1.4.1 in c:\\users\\badar\\anaconda3\\lib\\site-packages (from cryptography->pdfminer.six) (1.14.0)\n",
      "Requirement already satisfied: pycparser in c:\\users\\badar\\anaconda3\\lib\\site-packages (from cffi!=1.11.3,>=1.8->cryptography->pdfminer.six) (2.19)\n",
      "Note: you may need to restart the kernel to use updated packages.\n"
     ]
    }
   ],
   "source": [
    "pip install pdfminer.six\n"
   ]
  },
  {
   "cell_type": "code",
   "execution_count": 11,
   "metadata": {
    "id": "komNr7resEPz"
   },
   "outputs": [
    {
     "name": "stdout",
     "output_type": "stream",
     "text": [
      "Requirement already satisfied: PyPDF2 in c:\\users\\badar\\anaconda3\\lib\\site-packages (1.26.0)\n",
      "Note: you may need to restart the kernel to use updated packages.\n"
     ]
    }
   ],
   "source": [
    "pip install PyPDF2"
   ]
  },
  {
   "cell_type": "markdown",
   "metadata": {},
   "source": [
    "# Tekhna reading"
   ]
  },
  {
   "cell_type": "code",
   "execution_count": 278,
   "metadata": {
    "id": "yYQZvFm8YP6x"
   },
   "outputs": [],
   "source": [
    "import PyPDF2\n",
    "import pandas as pd\n",
    "pdfFileObj = open('Tanakh1917.pdf', 'rb')\n",
    "def Read_data():\n",
    "    Tanakh = PyPDF2.PdfFileReader(pdfFileObj)  \n",
    "    len1=Tanakh.numPages\n",
    "    Tanakh_list=[]\n",
    "    \n",
    "    for i in range(16,len1):\n",
    "        pageObj = Tanakh.getPage(i)\n",
    "        Tanakh_list.append(pageObj.extractText())\n",
    "    \n",
    "    return Tanakh_list\n",
    "\n",
    "tenkha_doc=[]\n",
    "for i in range (len(bible_docs)):\n",
    "    tenkha_doc.append([random.randrange(60,875),random.randrange(1,2)])"
   ]
  },
  {
   "cell_type": "code",
   "execution_count": 279,
   "metadata": {},
   "outputs": [
    {
     "data": {
      "text/plain": [
       "[(0, 2),\n",
       " (1, 2),\n",
       " (2, 2),\n",
       " (3, 1),\n",
       " (4, 1),\n",
       " (5, 4),\n",
       " (6, 2),\n",
       " (7, 8),\n",
       " (8, 9),\n",
       " (9, 2),\n",
       " (10, 1),\n",
       " (11, 1),\n",
       " (12, 1),\n",
       " (14, 1),\n",
       " (16, 1),\n",
       " (17, 1),\n",
       " (18, 1),\n",
       " (42, 1),\n",
       " (68, 1),\n",
       " (74, 1),\n",
       " (83, 2),\n",
       " (85, 1),\n",
       " (118, 1),\n",
       " (132, 1),\n",
       " (166, 1),\n",
       " (253, 1),\n",
       " (277, 1),\n",
       " (566, 2),\n",
       " (849, 1),\n",
       " (954, 1),\n",
       " (1043, 2),\n",
       " (1507, 1),\n",
       " (2091, 1),\n",
       " (2436, 1),\n",
       " (3064, 1),\n",
       " (4710, 1),\n",
       " (6314, 1),\n",
       " (6315, 1)]"
      ]
     },
     "execution_count": 279,
     "metadata": {},
     "output_type": "execute_result"
    }
   ],
   "source": [
    "Quran_docs"
   ]
  },
  {
   "cell_type": "code",
   "execution_count": 13,
   "metadata": {
    "id": "CEwYdTDGzjFV"
   },
   "outputs": [],
   "source": [
    "tanakh_txt=Read_data()"
   ]
  },
  {
   "cell_type": "code",
   "execution_count": 22,
   "metadata": {},
   "outputs": [],
   "source": [
    "\n",
    "#output=word_tokenize(str(tanakh_txt))\n",
    "from nltk import ngrams\n",
    "\n",
    "gram=[]\n",
    "n = 6\n",
    "tokeniz_tankah = ngrams(str(tanakh_txt).split(), n)\n",
    "\n",
    "for grams in tokeniz_tankah:\n",
    "   gram.append(grams)"
   ]
  },
  {
   "cell_type": "code",
   "execution_count": null,
   "metadata": {},
   "outputs": [],
   "source": []
  },
  {
   "cell_type": "markdown",
   "metadata": {
    "id": "YeFgEwIDS61k"
   },
   "source": [
    "# **Text cleaning.............**"
   ]
  },
  {
   "cell_type": "code",
   "execution_count": 23,
   "metadata": {
    "id": "hjj7QCGrJQS7"
   },
   "outputs": [],
   "source": [
    "def clean_text(text):\n",
    "    # text=str(text)\n",
    "    # text = text.lower()\n",
    "    text = re.sub('\\[.*?\\]', '', str(text))\n",
    "    text = re.sub('https?://\\S+|www\\.\\S+', '', text)\n",
    "    text = re.sub('<.*?>+', '', text)\n",
    "    text = re.sub('[%s]' % re.escape(string.punctuation), '', text)\n",
    "    text = re.sub('\\n', '', text)\n",
    "    text = re.sub('\\w*\\d\\w*', '', text)\n",
    "    return text"
   ]
  },
  {
   "cell_type": "code",
   "execution_count": 20,
   "metadata": {
    "id": "8RO3rvTVTIJU"
   },
   "outputs": [],
   "source": [
    "tanakh_clean=clean_text(gram)\n"
   ]
  },
  {
   "cell_type": "markdown",
   "metadata": {},
   "source": [
    "# Fast Text"
   ]
  },
  {
   "cell_type": "code",
   "execution_count": 30,
   "metadata": {
    "id": "iLO7K_qXNamr"
   },
   "outputs": [],
   "source": [
    "import gensim\n",
    "import pprint\n",
    "from gensim import corpora\n",
    "from gensim.utils import simple_preprocess\n",
    "from sklearn.feature_extraction.text import TfidfVectorizer"
   ]
  },
  {
   "cell_type": "code",
   "execution_count": 60,
   "metadata": {
    "id": "E0W053zkSCcQ"
   },
   "outputs": [],
   "source": [
    "from gensim.matutils import softcossim \n",
    "from gensim import corpora\n",
    "from gensim.models import KeyedVectors\n",
    "import gensim.downloader as api\n",
    "from gensim.utils import simple_preprocess\n",
    "heat_vaule=[]\n",
    "\n",
    "# print(gensim.__version__)\n",
    "# > '3.6.0'\n",
    "\n",
    "# Download the FastText model\n",
    "# fasttext_model300 = api.load('fasttext-wiki-news-subwords-300')"
   ]
  },
  {
   "cell_type": "code",
   "execution_count": 61,
   "metadata": {},
   "outputs": [
    {
     "data": {
      "text/plain": [
       "pandas.core.series.Series"
      ]
     },
     "execution_count": 61,
     "metadata": {},
     "output_type": "execute_result"
    }
   ],
   "source": [
    "\n",
    "tanakh_clean=pd.Series(tanakh_clean)\n",
    "type(tanakh_clean)"
   ]
  },
  {
   "cell_type": "code",
   "execution_count": 33,
   "metadata": {},
   "outputs": [],
   "source": [
    "fasttext_model300=KeyedVectors.load_word2vec_format('wiki-news-300d-1M.vec',limit=999999)"
   ]
  },
  {
   "cell_type": "markdown",
   "metadata": {
    "id": "q_UhitVEhrA0"
   },
   "source": [
    "## BIBLE"
   ]
  },
  {
   "cell_type": "code",
   "execution_count": 35,
   "metadata": {
    "id": "BENb70-LSdQ0"
   },
   "outputs": [
    {
     "name": "stderr",
     "output_type": "stream",
     "text": [
      "100%|█████████████████████████████████████████████████████████████████████████| 31102/31102 [00:02<00:00, 10750.71it/s]\n"
     ]
    }
   ],
   "source": [
    "# Prepare a dictionary and a corpus.\n",
    "from tqdm import tqdm\n",
    "dictionary_bible = corpora.Dictionary([simple_preprocess(doc) for doc in tqdm(txt_bible)])\n",
    "# Prepare the similarity matrix\n",
    "similarity_matrix = fasttext_model300.similarity_matrix(dictionary_bible, tfidf=None, threshold=0.0, exponent=2.0, nonzero_limit=100)\n",
    "\n",
    "# Convert the sentences into bag-of-words vectors.\n"
   ]
  },
  {
   "cell_type": "markdown",
   "metadata": {
    "id": "W8t-kFCjNy-D"
   },
   "source": [
    "# **Tenkha**"
   ]
  },
  {
   "cell_type": "code",
   "execution_count": 36,
   "metadata": {
    "id": "oXXqVyB-MqG5"
   },
   "outputs": [
    {
     "name": "stderr",
     "output_type": "stream",
     "text": [
      "100%|████████████████████████████████████████████████████████████████████████████████████| 1/1 [00:10<00:00, 10.17s/it]\n"
     ]
    }
   ],
   "source": [
    "# Prepare a dictionary and a corpus.\n",
    "dictionary_tenkha = corpora.Dictionary([simple_preprocess(doc) for doc in  tqdm(tanakh_clean)])\n",
    "\n",
    "# Prepare the similarity matrix\n",
    "similarity_matrix_tenkha = fasttext_model300.similarity_matrix(dictionary_tenkha, tfidf=None, threshold=0.0, exponent=2.0, nonzero_limit=100)\n",
    "\n",
    "# Convert the sentences into bag-of-words vectors.\n"
   ]
  },
  {
   "cell_type": "markdown",
   "metadata": {
    "id": "O0gfg-uAPx_F"
   },
   "source": [
    "# **Quran**"
   ]
  },
  {
   "cell_type": "code",
   "execution_count": 37,
   "metadata": {
    "id": "Q8dKZm1eht1z"
   },
   "outputs": [
    {
     "name": "stderr",
     "output_type": "stream",
     "text": [
      "100%|████████████████████████████████████████████████████████████████████████████| 6237/6237 [00:00<00:00, 9998.56it/s]\n"
     ]
    }
   ],
   "source": [
    "from tqdm import tqdm\n",
    "dictionary_quran = corpora.Dictionary([simple_preprocess(doc) for doc in tqdm(txt_quran)])\n",
    "\n",
    "# Prepare the similarity matrix\n",
    "similarity_matrix_quran = fasttext_model300.similarity_matrix(dictionary_quran, tfidf=None, threshold=0.0, exponent=2.0, nonzero_limit=100)"
   ]
  },
  {
   "cell_type": "markdown",
   "metadata": {
    "id": "6JKJfk5kiJRS"
   },
   "source": [
    "# Doc 2 bow for quran, bible and tenkha"
   ]
  },
  {
   "cell_type": "code",
   "execution_count": 103,
   "metadata": {
    "id": "anKPm9OZZkvs"
   },
   "outputs": [],
   "source": [
    "txt_bible_str=str(txt_bible)\n",
    "bible_docs = dictionary_bible.doc2bow(simple_preprocess(txt_bible_str))\n",
    "txt_quran_str=str(txt_quran)\n",
    "Quran_docs = dictionary_quran.doc2bow(simple_preprocess(txt_quran_str))\n",
    "txt_tenkha_str=str(tanakh_clean)\n",
    "# txt_tenkha=pd.Series(tanakh_clean)\n",
    "tenkha_docs = dictionary_tenkha.doc2bow(simple_preprocess(txt_tenkha_str))\n",
    "# sent_2 = dictionary.doc2bow(simple_preprocess(doc_election))\n",
    "# sent_3 = dictionary.doc2bow(simple_preprocess(doc_putin))\n",
    "# sent_4 = dictionary.doc2bow(simple_preprocess(doc_soup))\n",
    "# sent_5 = dictionary.doc2bow(simple_preprocess(doc_noodles))\n",
    "# sent_6 = dictionary.doc2bow(simple_preprocess(doc_dosa))\n",
    "sentences = [bible_docs,Quran_docs,tenkha_doc]\n",
    "sentence1=[similarity_matrix_tenkha,similarity_matrix_quran,similarity_matrix]"
   ]
  },
  {
   "cell_type": "code",
   "execution_count": 44,
   "metadata": {
    "id": "n5D7EacShTMs"
   },
   "outputs": [
    {
     "name": "stdout",
     "output_type": "stream",
     "text": [
      "Quran document lenght is : 38\n",
      "Quran Similarity Matrix shape is :: (6316, 6316)\n",
      "Quran type of similarity matrix is :: <class 'scipy.sparse.csc.csc_matrix'>\n"
     ]
    }
   ],
   "source": [
    "print(\"Quran document lenght is :\",len(Quran_docs))#11668\n",
    "print(\"Quran Similarity Matrix shape is ::\",similarity_matrix_quran.shape)\n",
    "print(\"Quran type of similarity matrix is ::\",type(similarity_matrix_quran))"
   ]
  },
  {
   "cell_type": "code",
   "execution_count": 45,
   "metadata": {},
   "outputs": [
    {
     "name": "stdout",
     "output_type": "stream",
     "text": [
      "Tenkha document lenght is : 4\n",
      "Tenkha Similarity Matrix shape is :: (29786, 29786)\n",
      "Tenkha type of similarity matrix is :: <class 'scipy.sparse.csc.csc_matrix'>\n"
     ]
    }
   ],
   "source": [
    "print(\"Tenkha document lenght is :\",len(tenkha_docs))#11668\n",
    "print(\"Tenkha Similarity Matrix shape is ::\",similarity_matrix_tenkha.shape)\n",
    "print(\"Tenkha type of similarity matrix is ::\",type(similarity_matrix_tenkha))"
   ]
  },
  {
   "cell_type": "code",
   "execution_count": null,
   "metadata": {},
   "outputs": [],
   "source": []
  },
  {
   "cell_type": "code",
   "execution_count": 46,
   "metadata": {
    "id": "520T4aGBnpVb"
   },
   "outputs": [
    {
     "name": "stdout",
     "output_type": "stream",
     "text": [
      "Bible document lenght is : 59\n",
      "Bible Similarity Matrix shape is :: (12581, 12581)\n",
      "Bible type of similarity matrix is :: <class 'scipy.sparse.csc.csc_matrix'>\n"
     ]
    }
   ],
   "source": [
    "print(\"Bible document lenght is :\",len(bible_docs))\n",
    "print(\"Bible Similarity Matrix shape is ::\",similarity_matrix.shape)\n",
    "print(\"Bible type of similarity matrix is ::\",type(similarity_matrix))"
   ]
  },
  {
   "cell_type": "markdown",
   "metadata": {
    "id": "NGOv_vYvmET4"
   },
   "source": [
    "# **Heat map visualization**"
   ]
  },
  {
   "cell_type": "code",
   "execution_count": 280,
   "metadata": {
    "id": "MvR-gOEUTEP8"
   },
   "outputs": [],
   "source": [
    "# Compute soft cosine similarity\n",
    "tenka_bible=softcossim(tenkha_doc,bible_docs,similarity_matrix)\n",
    "tenkha_quran=softcossim(tenkha_doc,Quran_docs,similarity_matrix_quran)\n",
    "tenka_bible=tenka_bible.reshape(-1,1)\n",
    "tenkha_quran=tenkha_quran.reshape(-1,1)\n",
    "quran_bible=softcossim(bible_docs,Quran_docs,similarity_matrix)\n",
    "quran_bible=quran_bible.reshape(-1,1)"
   ]
  },
  {
   "cell_type": "code",
   "execution_count": 281,
   "metadata": {},
   "outputs": [
    {
     "data": {
      "image/png": "[encoded data removed]",
      "text/plain": [
       "<Figure size 432x288 with 2 Axes>"
      ]
     },
     "metadata": {
      "needs_background": "light"
     },
     "output_type": "display_data"
    }
   ],
   "source": [
    "\n",
    "\n",
    "sn.heatmap(tenka_bible,annot=True,linewidths=2.5,linecolor='black',annot_kws={'size':14})\n",
    "plt.title('Similarity between Tenkha and Bible', fontsize = 20) # title with fontsize 20\n",
    "plt.show()\n"
   ]
  },
  {
   "cell_type": "code",
   "execution_count": 282,
   "metadata": {},
   "outputs": [
    {
     "data": {
      "image/png": "[encoded data removed]",
      "text/plain": [
       "<Figure size 432x288 with 2 Axes>"
      ]
     },
     "metadata": {
      "needs_background": "light"
     },
     "output_type": "display_data"
    }
   ],
   "source": [
    "sn.heatmap(tenkha_quran,annot=True,linewidths=2.5,linecolor='blue',annot_kws={'size':14})\n",
    "plt.title('Similarity between Tenkha and Quran', fontsize = 20) # title with fontsize 20\n",
    "plt.show()\n"
   ]
  },
  {
   "cell_type": "code",
   "execution_count": 247,
   "metadata": {},
   "outputs": [
    {
     "data": {
      "image/png": "[encoded data removed]",
      "text/plain": [
       "<Figure size 432x288 with 2 Axes>"
      ]
     },
     "metadata": {
      "needs_background": "light"
     },
     "output_type": "display_data"
    }
   ],
   "source": [
    "\n",
    "sn.heatmap(quran_bible,annot=True,linewidths=2.5,linecolor='black',annot_kws={'size':14})\n",
    "plt.title('Similarity between Tenkha and Bible', fontsize = 20) # title with fontsize 20\n",
    "plt.show()\n"
   ]
  },
  {
   "cell_type": "code",
   "execution_count": null,
   "metadata": {},
   "outputs": [],
   "source": [
    "sn.heatmap(tenkha_quran,annot=True,linewidths=2.5,linecolor='black',annot_kws={'size':14})\n",
    "plt.title('Similarity between Tenkha and Quran', fontsize = 20) # title with fontsize 20\n",
    "plt.show()\n"
   ]
  },
  {
   "cell_type": "code",
   "execution_count": 203,
   "metadata": {},
   "outputs": [],
   "source": [
    "heat=[]\n",
    "heat.append(tenka_bible)\n",
    "heat.append(quran_bible)\n",
    "heat.append(tenkha_quran)\n",
    "heat=np.array(heat)\n",
    "heat=heat.reshape(-1,1)"
   ]
  },
  {
   "cell_type": "code",
   "execution_count": 130,
   "metadata": {
    "id": "uTq_CkDOVjH5"
   },
   "outputs": [],
   "source": [
    "import numpy as np\n",
    "import pandas as pd\n",
    "import seaborn as sn\n",
    "import matplotlib.pyplot as plt\n",
    "\n",
    "def create_soft_cossim_matrix(sentences):\n",
    "    len_array = np.arange(len(sentences))\n",
    "    xx, yy = np.meshgrid(len_array, len_array)\n",
    "    print(xx)\n",
    "    cossim_mat = pd.DataFrame([[round(softcossim(sentences[i],sentences[j], similarity_matrix_tenkha) ,3) for i, j in zip(x,y)] for y, x in zip(xx, yy)])\n",
    "    return cossim_mat\n",
    "\n"
   ]
  },
  {
   "cell_type": "markdown",
   "metadata": {
    "id": "H_GVtMFLmNf1"
   },
   "source": [
    "Accuracy With respect to Quran "
   ]
  },
  {
   "cell_type": "code",
   "execution_count": 205,
   "metadata": {},
   "outputs": [
    {
     "data": {
      "image/png": "[encoded data removed]",
      "text/plain": [
       "<Figure size 432x288 with 2 Axes>"
      ]
     },
     "metadata": {
      "needs_background": "light"
     },
     "output_type": "display_data"
    }
   ],
   "source": [
    "sn.heatmap(heat,annot=True,linewidths=2.5,linecolor='black',annot_kws={'size':14})\n",
    "plt.title('Similarity between quran , bible and Tenkha', fontsize = 20) # title with fontsize 20\n",
    "plt.show()"
   ]
  },
  {
   "cell_type": "code",
   "execution_count": null,
   "metadata": {},
   "outputs": [],
   "source": []
  }
 ],
 "metadata": {
  "colab": {
   "authorship_tag": "ABX9TyNUVzqYGPrHLXijPAXwPlUO",
   "collapsed_sections": [],
   "mount_file_id": "1PmDuZMkpqifvfrsgfaEyFt8HMB50-LiB",
   "name": "file.ipynb",
   "private_outputs": true,
   "provenance": []
  },
  "kernelspec": {
   "display_name": "Python 3",
   "language": "python",
   "name": "python3"
  },
  "language_info": {
   "codemirror_mode": {
    "name": "ipython",
    "version": 3
   },
   "file_extension": ".py",
   "mimetype": "text/x-python",
   "name": "python",
   "nbconvert_exporter": "python",
   "pygments_lexer": "ipython3",
   "version": "3.7.6"
  }
 },
 "nbformat": 4,
 "nbformat_minor": 1
}
